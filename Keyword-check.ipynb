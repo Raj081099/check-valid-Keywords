{
 "cells": [
  {
   "cell_type": "code",
   "execution_count": 1,
   "id": "1f604dd2",
   "metadata": {},
   "outputs": [
    {
     "name": "stdout",
     "output_type": "stream",
     "text": [
      "for is python keyword\n",
      "while is python keyword\n",
      "tanisha is not a python keyword\n",
      "break is python keyword\n",
      "sky is not a python keyword\n",
      "elif is python keyword\n",
      "assert is python keyword\n",
      "pulkit is not a python keyword\n",
      "lambda is python keyword\n",
      "else is python keyword\n",
      "sakshar is not a python keyword\n"
     ]
    }
   ],
   "source": [
    "import keyword\n",
    "import keyword\n",
    "# initializing strings for testing while putting them in an array\n",
    "keys = [\"for\", \"while\", \"tanisha\", \"break\", \"sky\",\n",
    "\"elif\", \"assert\", \"pulkit\", \"lambda\", \"else\", \"sakshar\"]\n",
    " \n",
    "for i in range(len(keys)):\n",
    "     # checking which are keywords\n",
    "    if keyword.iskeyword(keys[i]):\n",
    "        print(keys[i] + \" is python keyword\")\n",
    "    else:\n",
    "        print(keys[i] + \" is not a python keyword\")"
   ]
  },
  {
   "cell_type": "code",
   "execution_count": 2,
   "id": "fe27d9bc",
   "metadata": {},
   "outputs": [
    {
     "ename": "NameError",
     "evalue": "name 'getcwd' is not defined",
     "output_type": "error",
     "traceback": [
      "\u001b[1;31m---------------------------------------------------------------------------\u001b[0m",
      "\u001b[1;31mNameError\u001b[0m                                 Traceback (most recent call last)",
      "Input \u001b[1;32mIn [2]\u001b[0m, in \u001b[0;36m<cell line: 1>\u001b[1;34m()\u001b[0m\n\u001b[1;32m----> 1\u001b[0m \u001b[43mgetcwd\u001b[49m()\n",
      "\u001b[1;31mNameError\u001b[0m: name 'getcwd' is not defined"
     ]
    }
   ],
   "source": [
    "getcwd()\n"
   ]
  },
  {
   "cell_type": "code",
   "execution_count": 6,
   "id": "d9a5bd8d",
   "metadata": {},
   "outputs": [
    {
     "data": {
      "text/plain": [
       "'C:\\\\Users\\\\RAJENDRA'"
      ]
     },
     "execution_count": 6,
     "metadata": {},
     "output_type": "execute_result"
    }
   ],
   "source": [
    "import os\n",
    "os.getcwd()\n",
    "\n"
   ]
  },
  {
   "cell_type": "code",
   "execution_count": null,
   "id": "2d6342bf",
   "metadata": {},
   "outputs": [],
   "source": []
  }
 ],
 "metadata": {
  "kernelspec": {
   "display_name": "Python 3 (ipykernel)",
   "language": "python",
   "name": "python3"
  },
  "language_info": {
   "codemirror_mode": {
    "name": "ipython",
    "version": 3
   },
   "file_extension": ".py",
   "mimetype": "text/x-python",
   "name": "python",
   "nbconvert_exporter": "python",
   "pygments_lexer": "ipython3",
   "version": "3.9.12"
  }
 },
 "nbformat": 4,
 "nbformat_minor": 5
}
